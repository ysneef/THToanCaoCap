{
  "nbformat": 4,
  "nbformat_minor": 0,
  "metadata": {
    "colab": {
      "name": "ThucHanhChuong7.ipynb",
      "provenance": [],
      "authorship_tag": "ABX9TyO6ZLO/1UUy2e0zaUBzdq6U",
      "include_colab_link": true
    },
    "kernelspec": {
      "name": "python3",
      "display_name": "Python 3"
    },
    "language_info": {
      "name": "python"
    }
  },
  "cells": [
    {
      "cell_type": "markdown",
      "metadata": {
        "id": "view-in-github",
        "colab_type": "text"
      },
      "source": [
        "<a href=\"https://colab.research.google.com/github/ysneef/THToanCaoCap/blob/main/ThucHanhChuong7.ipynb\" target=\"_parent\"><img src=\"https://colab.research.google.com/assets/colab-badge.svg\" alt=\"Open In Colab\"/></a>"
      ]
    },
    {
      "cell_type": "markdown",
      "source": [
        "# TH1:"
      ],
      "metadata": {
        "id": "-KC4oXg4KfGX"
      }
    },
    {
      "cell_type": "code",
      "execution_count": 6,
      "metadata": {
        "colab": {
          "base_uri": "https://localhost:8080/",
          "height": 38
        },
        "id": "j3bSaXgrKM0Y",
        "outputId": "6a3c9025-50f7-4732-e51e-541fa1597432"
      },
      "outputs": [
        {
          "output_type": "execute_result",
          "data": {
            "text/plain": [
              "oo"
            ],
            "text/latex": "$\\displaystyle \\infty$"
          },
          "metadata": {},
          "execution_count": 6
        }
      ],
      "source": [
        "from sympy import Symbol, Integral\n",
        "x = Symbol('x')\n",
        "f = 1.0/x \n",
        "unbound1 = Integral(f, (x, 0, 2))\n",
        "unbound1.doit()"
      ]
    },
    {
      "cell_type": "markdown",
      "source": [
        "# TH2:"
      ],
      "metadata": {
        "id": "BgyySMa1LUDo"
      }
    },
    {
      "cell_type": "code",
      "source": [
        "from sympy import Symbol, Integral\n",
        "x = Symbol('x')\n",
        "f = 1.0/x**2\n",
        "unbound2 = Integral(f, (x, -1, 1)) \n",
        "unbound2.doit() "
      ],
      "metadata": {
        "colab": {
          "base_uri": "https://localhost:8080/",
          "height": 38
        },
        "id": "NyhV_41zLWX8",
        "outputId": "4082e675-8351-4a02-a5ac-7c42bdba0ef2"
      },
      "execution_count": 7,
      "outputs": [
        {
          "output_type": "execute_result",
          "data": {
            "text/plain": [
              "oo"
            ],
            "text/latex": "$\\displaystyle \\infty$"
          },
          "metadata": {},
          "execution_count": 7
        }
      ]
    },
    {
      "cell_type": "markdown",
      "source": [
        "# TH3:"
      ],
      "metadata": {
        "id": "_e282KRcLly-"
      }
    },
    {
      "cell_type": "code",
      "source": [
        "from sympy import Symbol, Integral, Abs\n",
        "x = Symbol('x') \n",
        "f = Abs(x) \n",
        "discontinous1 = Integral(f, (x, -1, 2)) \n",
        "discontinous1.doit()"
      ],
      "metadata": {
        "colab": {
          "base_uri": "https://localhost:8080/",
          "height": 51
        },
        "id": "Y5GnizBvLoYD",
        "outputId": "55d2c3e8-4c5e-42a0-b37a-558f33291e6c"
      },
      "execution_count": 8,
      "outputs": [
        {
          "output_type": "execute_result",
          "data": {
            "text/plain": [
              "5/2"
            ],
            "text/latex": "$\\displaystyle \\frac{5}{2}$"
          },
          "metadata": {},
          "execution_count": 8
        }
      ]
    },
    {
      "cell_type": "markdown",
      "source": [
        "# TH4:"
      ],
      "metadata": {
        "id": "Zd1oUH20L0XV"
      }
    },
    {
      "cell_type": "code",
      "source": [
        "from sympy import Symbol, Integral\n",
        "x = Symbol('x')\n",
        "f = x**(0.5)\n",
        "undef1 = Integral(f, (x, -1, 1))\n",
        "undef1.doit() "
      ],
      "metadata": {
        "colab": {
          "base_uri": "https://localhost:8080/",
          "height": 39
        },
        "id": "mY_5zK2XL2c9",
        "outputId": "de2f2c11-d74c-456e-db2d-88f24d216197"
      },
      "execution_count": 9,
      "outputs": [
        {
          "output_type": "execute_result",
          "data": {
            "text/plain": [
              "0.666666666666667 + 0.666666666666667*I"
            ],
            "text/latex": "$\\displaystyle 0.666666666666667 + 0.666666666666667 i$"
          },
          "metadata": {},
          "execution_count": 9
        }
      ]
    },
    {
      "cell_type": "markdown",
      "source": [
        "# TH5:"
      ],
      "metadata": {
        "id": "u-cZDh4qL-Yv"
      }
    },
    {
      "cell_type": "code",
      "source": [
        "from scipy import integrate\n",
        "import numpy as np\n",
        "y = np.array([0.0, 4.1, 8.9, 8.5, 6.7, 4.3, 2.5, 1.2,0.2])\n",
        "x = np.arange(0,9)\n",
        "integrate.simps(y, x)"
      ],
      "metadata": {
        "colab": {
          "base_uri": "https://localhost:8080/"
        },
        "id": "Lxz25js1MAwg",
        "outputId": "4d46e05c-daf2-4d8a-a44f-a17de05e8bbc"
      },
      "execution_count": 19,
      "outputs": [
        {
          "output_type": "execute_result",
          "data": {
            "text/plain": [
              "36.26666666666666"
            ]
          },
          "metadata": {},
          "execution_count": 19
        }
      ]
    },
    {
      "cell_type": "code",
      "source": [
        "S = 2*integrate.simps(y, x) \n",
        "S"
      ],
      "metadata": {
        "colab": {
          "base_uri": "https://localhost:8080/"
        },
        "id": "wb5qg6Z8PNeR",
        "outputId": "73e4ff0c-e703-4b35-ac89-d132e0d2ba83"
      },
      "execution_count": 23,
      "outputs": [
        {
          "output_type": "execute_result",
          "data": {
            "text/plain": [
              "72.53333333333332"
            ]
          },
          "metadata": {},
          "execution_count": 23
        }
      ]
    },
    {
      "cell_type": "code",
      "source": [
        "A = 5.5 \n",
        "F = A/S * 60 \n",
        "F"
      ],
      "metadata": {
        "colab": {
          "base_uri": "https://localhost:8080/"
        },
        "id": "J3lXW7OXPRC4",
        "outputId": "5e8138e2-142e-4bd1-fa0a-6cde3b69aa8b"
      },
      "execution_count": 24,
      "outputs": [
        {
          "output_type": "execute_result",
          "data": {
            "text/plain": [
              "4.5496323529411775"
            ]
          },
          "metadata": {},
          "execution_count": 24
        }
      ]
    },
    {
      "cell_type": "markdown",
      "source": [
        "# TH6:"
      ],
      "metadata": {
        "id": "9u23kOJxMLpP"
      }
    },
    {
      "cell_type": "code",
      "source": [
        "from sympy import Symbol, Integral, Derivative, pprint, sqrt\n",
        "x = Symbol('x')\n",
        "f = x**(2/3)\n",
        "d = Derivative(f).doit()"
      ],
      "metadata": {
        "id": "8eYxv4_IMNpq"
      },
      "execution_count": 25,
      "outputs": []
    },
    {
      "cell_type": "code",
      "source": [
        "d"
      ],
      "metadata": {
        "colab": {
          "base_uri": "https://localhost:8080/",
          "height": 51
        },
        "id": "1ApS1eSPbQOD",
        "outputId": "ff4a4952-b865-4938-b928-559261a3b0cb"
      },
      "execution_count": 26,
      "outputs": [
        {
          "output_type": "execute_result",
          "data": {
            "text/plain": [
              "0.666666666666667*x**(-0.333333333333333)"
            ],
            "text/latex": "$\\displaystyle \\frac{0.666666666666667}{x^{0.333333333333333}}$"
          },
          "metadata": {},
          "execution_count": 26
        }
      ]
    },
    {
      "cell_type": "code",
      "source": [
        "g = sqrt(1+d*d)"
      ],
      "metadata": {
        "id": "88RbmX1yaGOL"
      },
      "execution_count": 27,
      "outputs": []
    },
    {
      "cell_type": "code",
      "source": [
        "g"
      ],
      "metadata": {
        "colab": {
          "base_uri": "https://localhost:8080/",
          "height": 58
        },
        "id": "phAorKvCbVvw",
        "outputId": "10ab25c1-acb8-4539-d065-419c4aeae9a4"
      },
      "execution_count": 28,
      "outputs": [
        {
          "output_type": "execute_result",
          "data": {
            "text/plain": [
              "sqrt(0.444444444444444*x**(-0.666666666666667) + 1)"
            ],
            "text/latex": "$\\displaystyle \\sqrt{\\frac{0.444444444444444}{x^{0.666666666666667}} + 1}$"
          },
          "metadata": {},
          "execution_count": 28
        }
      ]
    },
    {
      "cell_type": "code",
      "source": [
        "chieudaif = Integral(g,(x,0,2))\n",
        "chieudaif"
      ],
      "metadata": {
        "colab": {
          "base_uri": "https://localhost:8080/",
          "height": 79
        },
        "id": "XZT88SyoaYs5",
        "outputId": "fa417a7c-d6c4-4b22-ce87-f1918c703fb0"
      },
      "execution_count": 30,
      "outputs": [
        {
          "output_type": "execute_result",
          "data": {
            "text/plain": [
              "Integral(sqrt(0.444444444444444*x**(-0.666666666666667) + 1), (x, 0, 2))"
            ],
            "text/latex": "$\\displaystyle \\int\\limits_{0}^{2} \\sqrt{\\frac{0.444444444444444}{x^{0.666666666666667}} + 1}\\, dx$"
          },
          "metadata": {},
          "execution_count": 30
        }
      ]
    },
    {
      "cell_type": "code",
      "source": [
        "chieudaif.doit()"
      ],
      "metadata": {
        "colab": {
          "base_uri": "https://localhost:8080/",
          "height": 55
        },
        "id": "5h13AOpgbldK",
        "outputId": "0d086580-2335-4773-b538-e9919fc61f08"
      },
      "execution_count": 31,
      "outputs": [
        {
          "output_type": "execute_result",
          "data": {
            "text/plain": [
              "4.60829764952479/sqrt(pi)"
            ],
            "text/latex": "$\\displaystyle \\frac{4.60829764952479}{\\sqrt{\\pi}}$"
          },
          "metadata": {},
          "execution_count": 31
        }
      ]
    },
    {
      "cell_type": "markdown",
      "source": [
        "# TH8:"
      ],
      "metadata": {
        "id": "U9OQpCWKM8Iu"
      }
    },
    {
      "cell_type": "code",
      "source": [
        "from sympy import difference_delta as dd\n",
        "from sympy.abc import n\n",
        "dd(n*(n+1), n) "
      ],
      "metadata": {
        "colab": {
          "base_uri": "https://localhost:8080/",
          "height": 39
        },
        "id": "uoai_Ph6M-H_",
        "outputId": "8de52e19-cc90-402f-e0e2-2d8d559adc28"
      },
      "execution_count": 11,
      "outputs": [
        {
          "output_type": "execute_result",
          "data": {
            "text/plain": [
              "2*n + 2"
            ],
            "text/latex": "$\\displaystyle 2 n + 2$"
          },
          "metadata": {},
          "execution_count": 11
        }
      ]
    },
    {
      "cell_type": "code",
      "source": [
        " dd(n*(n+1), n, 2) "
      ],
      "metadata": {
        "colab": {
          "base_uri": "https://localhost:8080/",
          "height": 39
        },
        "id": "V7Qipfr_NEjg",
        "outputId": "87f25277-a130-4bea-b866-d6f77ab93676"
      },
      "execution_count": 12,
      "outputs": [
        {
          "output_type": "execute_result",
          "data": {
            "text/plain": [
              "4*n + 6"
            ],
            "text/latex": "$\\displaystyle 4 n + 6$"
          },
          "metadata": {},
          "execution_count": 12
        }
      ]
    },
    {
      "cell_type": "code",
      "source": [
        "from sympy.abc import n, k\n",
        "from sympy import limit_seq\n",
        "limit_seq((3*n**3+5*n**2+4)/(5*n**3+200*n**2+400), n) "
      ],
      "metadata": {
        "colab": {
          "base_uri": "https://localhost:8080/",
          "height": 51
        },
        "id": "B4pXZAdSNKzG",
        "outputId": "df2d2fe2-ae76-4525-8ef3-6110f148c74b"
      },
      "execution_count": 13,
      "outputs": [
        {
          "output_type": "execute_result",
          "data": {
            "text/plain": [
              "3/5"
            ],
            "text/latex": "$\\displaystyle \\frac{3}{5}$"
          },
          "metadata": {},
          "execution_count": 13
        }
      ]
    },
    {
      "cell_type": "code",
      "source": [
        "limit_seq((3*n**3+5*n**2+4)/(5*n**3+200*n**2+400), n)"
      ],
      "metadata": {
        "colab": {
          "base_uri": "https://localhost:8080/",
          "height": 51
        },
        "id": "7LsUqfawNPDS",
        "outputId": "4868380f-4b33-469d-99f8-6f99c582dff7"
      },
      "execution_count": 14,
      "outputs": [
        {
          "output_type": "execute_result",
          "data": {
            "text/plain": [
              "3/5"
            ],
            "text/latex": "$\\displaystyle \\frac{3}{5}$"
          },
          "metadata": {},
          "execution_count": 14
        }
      ]
    }
  ]
}