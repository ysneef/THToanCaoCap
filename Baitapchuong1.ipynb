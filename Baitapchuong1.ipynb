{
  "nbformat": 4,
  "nbformat_minor": 0,
  "metadata": {
    "colab": {
      "name": "Copy of Baitapchuong1.ipynb",
      "provenance": [],
      "collapsed_sections": [],
      "authorship_tag": "ABX9TyOI2cJgUCZ/63sgE88yOuCn",
      "include_colab_link": true
    },
    "kernelspec": {
      "name": "python3",
      "display_name": "Python 3"
    },
    "language_info": {
      "name": "python"
    }
  },
  "cells": [
    {
      "cell_type": "markdown",
      "metadata": {
        "id": "view-in-github",
        "colab_type": "text"
      },
      "source": [
        "<a href=\"https://colab.research.google.com/github/ysneef/THToanCaoCap/blob/main/Baitapchuong1.ipynb\" target=\"_parent\"><img src=\"https://colab.research.google.com/assets/colab-badge.svg\" alt=\"Open In Colab\"/></a>"
      ]
    },
    {
      "cell_type": "markdown",
      "source": [
        "TH1:"
      ],
      "metadata": {
        "id": "MGyAyzFO5a2h"
      }
    },
    {
      "cell_type": "code",
      "execution_count": 16,
      "metadata": {
        "id": "T8cJ6HoKr7oM"
      },
      "outputs": [],
      "source": [
        "n = 1000\n",
        "dayS = [1/2**n for n in range(0, n)]"
      ]
    },
    {
      "cell_type": "code",
      "source": [
        "len(dayS)"
      ],
      "metadata": {
        "colab": {
          "base_uri": "https://localhost:8080/"
        },
        "id": "jW86PyJE_85T",
        "outputId": "7da0e64a-d198-4b2f-eb53-e862502d7a6a"
      },
      "execution_count": 17,
      "outputs": [
        {
          "output_type": "execute_result",
          "data": {
            "text/plain": [
              "1000"
            ]
          },
          "metadata": {},
          "execution_count": 17
        }
      ]
    },
    {
      "cell_type": "code",
      "source": [
        "tongS = sum(dayS)\n",
        "print(tongS)"
      ],
      "metadata": {
        "colab": {
          "base_uri": "https://localhost:8080/"
        },
        "id": "KGTdSz_g_-Ey",
        "outputId": "8d93ca72-4c72-46cf-f3c7-f1c645123b9b"
      },
      "execution_count": 19,
      "outputs": [
        {
          "output_type": "stream",
          "name": "stdout",
          "text": [
            "2.0\n"
          ]
        }
      ]
    },
    {
      "cell_type": "markdown",
      "source": [
        "TH2:"
      ],
      "metadata": {
        "id": "MxGJ4nYc5-SH"
      }
    },
    {
      "cell_type": "code",
      "source": [
        ""
      ],
      "metadata": {
        "id": "Ic_WBWv86Ayc"
      },
      "execution_count": null,
      "outputs": []
    }
  ]
}