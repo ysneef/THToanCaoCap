{
  "nbformat": 4,
  "nbformat_minor": 0,
  "metadata": {
    "colab": {
      "name": "ThucHanhChuong3",
      "provenance": [],
      "authorship_tag": "ABX9TyMbCpwjS7Edugy7KRj+eyfa",
      "include_colab_link": true
    },
    "kernelspec": {
      "name": "python3",
      "display_name": "Python 3"
    },
    "language_info": {
      "name": "python"
    }
  },
  "cells": [
    {
      "cell_type": "markdown",
      "metadata": {
        "id": "view-in-github",
        "colab_type": "text"
      },
      "source": [
        "<a href=\"https://colab.research.google.com/github/ysneef/THToanCaoCap/blob/main/ThucHanhChuong3.ipynb\" target=\"_parent\"><img src=\"https://colab.research.google.com/assets/colab-badge.svg\" alt=\"Open In Colab\"/></a>"
      ]
    },
    {
      "cell_type": "markdown",
      "source": [
        "# TH1"
      ],
      "metadata": {
        "id": "-B1VwQCh6Tf3"
      }
    },
    {
      "cell_type": "code",
      "execution_count": 7,
      "metadata": {
        "id": "IpVeAvpf5nSH"
      },
      "outputs": [],
      "source": [
        "def luythua(x,n):\n",
        "  ketqua= 1\n",
        "  for i in range(n):\n",
        "    ketqua = ketqua *x\n",
        "  return ketqua"
      ]
    },
    {
      "cell_type": "code",
      "source": [
        "luythua(2, 1)"
      ],
      "metadata": {
        "colab": {
          "base_uri": "https://localhost:8080/"
        },
        "id": "pHtFbx-UHxt_",
        "outputId": "f5ce5ee6-152f-4da3-87e7-77a97bba8021"
      },
      "execution_count": 9,
      "outputs": [
        {
          "output_type": "execute_result",
          "data": {
            "text/plain": [
              "2"
            ]
          },
          "metadata": {},
          "execution_count": 9
        }
      ]
    },
    {
      "cell_type": "code",
      "source": [
        "luythua(2, 0)"
      ],
      "metadata": {
        "colab": {
          "base_uri": "https://localhost:8080/"
        },
        "id": "f5Vms8TaH03u",
        "outputId": "80c13386-3fa3-4f97-bb80-8691c19ff78d"
      },
      "execution_count": 10,
      "outputs": [
        {
          "output_type": "execute_result",
          "data": {
            "text/plain": [
              "1"
            ]
          },
          "metadata": {},
          "execution_count": 10
        }
      ]
    },
    {
      "cell_type": "markdown",
      "source": [
        "# TH2"
      ],
      "metadata": {
        "id": "Al9FlPV18lIO"
      }
    },
    {
      "cell_type": "code",
      "source": [
        "while 1 = 2:"
      ],
      "metadata": {
        "colab": {
          "base_uri": "https://localhost:8080/",
          "height": 130
        },
        "id": "dvKuCi4x8n3a",
        "outputId": "be922083-6b48-4613-9d72-0865b4c66aa5"
      },
      "execution_count": 8,
      "outputs": [
        {
          "output_type": "error",
          "ename": "SyntaxError",
          "evalue": "ignored",
          "traceback": [
            "\u001b[0;36m  File \u001b[0;32m\"<ipython-input-8-03efd44ee389>\"\u001b[0;36m, line \u001b[0;32m1\u001b[0m\n\u001b[0;31m    while 1 = 2:\u001b[0m\n\u001b[0m            ^\u001b[0m\n\u001b[0;31mSyntaxError\u001b[0m\u001b[0;31m:\u001b[0m invalid syntax\n"
          ]
        }
      ]
    },
    {
      "cell_type": "code",
      "source": [
        "10 * (1/0)"
      ],
      "metadata": {
        "colab": {
          "base_uri": "https://localhost:8080/",
          "height": 165
        },
        "id": "smhkL_fiHt1M",
        "outputId": "c3074efe-5de6-4667-ab5b-2beda9072765"
      },
      "execution_count": 11,
      "outputs": [
        {
          "output_type": "error",
          "ename": "ZeroDivisionError",
          "evalue": "ignored",
          "traceback": [
            "\u001b[0;31m---------------------------------------------------------------------------\u001b[0m",
            "\u001b[0;31mZeroDivisionError\u001b[0m                         Traceback (most recent call last)",
            "\u001b[0;32m<ipython-input-11-0b280f36835c>\u001b[0m in \u001b[0;36m<module>\u001b[0;34m()\u001b[0m\n\u001b[0;32m----> 1\u001b[0;31m \u001b[0;36m10\u001b[0m \u001b[0;34m*\u001b[0m \u001b[0;34m(\u001b[0m\u001b[0;36m1\u001b[0m\u001b[0;34m/\u001b[0m\u001b[0;36m0\u001b[0m\u001b[0;34m)\u001b[0m\u001b[0;34m\u001b[0m\u001b[0;34m\u001b[0m\u001b[0m\n\u001b[0m",
            "\u001b[0;31mZeroDivisionError\u001b[0m: division by zero"
          ]
        }
      ]
    },
    {
      "cell_type": "code",
      "source": [
        "3 * bien_chua_khai_bao / 4"
      ],
      "metadata": {
        "colab": {
          "base_uri": "https://localhost:8080/",
          "height": 165
        },
        "id": "icJ0TWD-IBZf",
        "outputId": "13f9cf9e-c198-46a4-b7f7-10d64ccc3781"
      },
      "execution_count": 12,
      "outputs": [
        {
          "output_type": "error",
          "ename": "NameError",
          "evalue": "ignored",
          "traceback": [
            "\u001b[0;31m---------------------------------------------------------------------------\u001b[0m",
            "\u001b[0;31mNameError\u001b[0m                                 Traceback (most recent call last)",
            "\u001b[0;32m<ipython-input-12-a849e0ab995e>\u001b[0m in \u001b[0;36m<module>\u001b[0;34m()\u001b[0m\n\u001b[0;32m----> 1\u001b[0;31m \u001b[0;36m3\u001b[0m \u001b[0;34m*\u001b[0m \u001b[0mbien_chua_khai_bao\u001b[0m \u001b[0;34m/\u001b[0m \u001b[0;36m4\u001b[0m\u001b[0;34m\u001b[0m\u001b[0;34m\u001b[0m\u001b[0m\n\u001b[0m",
            "\u001b[0;31mNameError\u001b[0m: name 'bien_chua_khai_bao' is not defined"
          ]
        }
      ]
    },
    {
      "cell_type": "code",
      "source": [
        "'ba' + 7"
      ],
      "metadata": {
        "colab": {
          "base_uri": "https://localhost:8080/",
          "height": 165
        },
        "id": "gsf9xa3yJ8X0",
        "outputId": "bbc5e23b-74d9-4a66-f64c-80521ccb5e90"
      },
      "execution_count": 19,
      "outputs": [
        {
          "output_type": "error",
          "ename": "TypeError",
          "evalue": "ignored",
          "traceback": [
            "\u001b[0;31m---------------------------------------------------------------------------\u001b[0m",
            "\u001b[0;31mTypeError\u001b[0m                                 Traceback (most recent call last)",
            "\u001b[0;32m<ipython-input-19-1407822a3f8c>\u001b[0m in \u001b[0;36m<module>\u001b[0;34m()\u001b[0m\n\u001b[0;32m----> 1\u001b[0;31m \u001b[0;34m'ba'\u001b[0m \u001b[0;34m+\u001b[0m \u001b[0;36m7\u001b[0m\u001b[0;34m\u001b[0m\u001b[0;34m\u001b[0m\u001b[0m\n\u001b[0m",
            "\u001b[0;31mTypeError\u001b[0m: can only concatenate str (not \"int\") to str"
          ]
        }
      ]
    },
    {
      "cell_type": "code",
      "source": [
        "10 * (1/0)"
      ],
      "metadata": {
        "colab": {
          "base_uri": "https://localhost:8080/",
          "height": 165
        },
        "id": "VUKtO_I_KBbk",
        "outputId": "f57d78c5-aa44-4392-ce00-157cb820b9cc"
      },
      "execution_count": 20,
      "outputs": [
        {
          "output_type": "error",
          "ename": "ZeroDivisionError",
          "evalue": "ignored",
          "traceback": [
            "\u001b[0;31m---------------------------------------------------------------------------\u001b[0m",
            "\u001b[0;31mZeroDivisionError\u001b[0m                         Traceback (most recent call last)",
            "\u001b[0;32m<ipython-input-20-0b280f36835c>\u001b[0m in \u001b[0;36m<module>\u001b[0;34m()\u001b[0m\n\u001b[0;32m----> 1\u001b[0;31m \u001b[0;36m10\u001b[0m \u001b[0;34m*\u001b[0m \u001b[0;34m(\u001b[0m\u001b[0;36m1\u001b[0m\u001b[0;34m/\u001b[0m\u001b[0;36m0\u001b[0m\u001b[0;34m)\u001b[0m\u001b[0;34m\u001b[0m\u001b[0;34m\u001b[0m\u001b[0m\n\u001b[0m",
            "\u001b[0;31mZeroDivisionError\u001b[0m: division by zero"
          ]
        }
      ]
    },
    {
      "cell_type": "code",
      "source": [
        "'ba' + (1/0) "
      ],
      "metadata": {
        "colab": {
          "base_uri": "https://localhost:8080/",
          "height": 165
        },
        "id": "LDOpH8pHKL5V",
        "outputId": "08cdc5e5-c5ad-4b57-bfa7-853d8d555a8f"
      },
      "execution_count": 21,
      "outputs": [
        {
          "output_type": "error",
          "ename": "ZeroDivisionError",
          "evalue": "ignored",
          "traceback": [
            "\u001b[0;31m---------------------------------------------------------------------------\u001b[0m",
            "\u001b[0;31mZeroDivisionError\u001b[0m                         Traceback (most recent call last)",
            "\u001b[0;32m<ipython-input-21-9e51bb6188a2>\u001b[0m in \u001b[0;36m<module>\u001b[0;34m()\u001b[0m\n\u001b[0;32m----> 1\u001b[0;31m \u001b[0;34m'ba'\u001b[0m \u001b[0;34m+\u001b[0m \u001b[0;34m(\u001b[0m\u001b[0;36m1\u001b[0m\u001b[0;34m/\u001b[0m\u001b[0;36m0\u001b[0m\u001b[0;34m)\u001b[0m\u001b[0;34m\u001b[0m\u001b[0;34m\u001b[0m\u001b[0m\n\u001b[0m",
            "\u001b[0;31mZeroDivisionError\u001b[0m: division by zero"
          ]
        }
      ]
    },
    {
      "cell_type": "code",
      "source": [
        "'ba' + 7 + (1/0)"
      ],
      "metadata": {
        "colab": {
          "base_uri": "https://localhost:8080/",
          "height": 165
        },
        "id": "bC334tOsKRbE",
        "outputId": "e7a05f53-0de2-475c-822e-b833bb4f3bc8"
      },
      "execution_count": 22,
      "outputs": [
        {
          "output_type": "error",
          "ename": "TypeError",
          "evalue": "ignored",
          "traceback": [
            "\u001b[0;31m---------------------------------------------------------------------------\u001b[0m",
            "\u001b[0;31mTypeError\u001b[0m                                 Traceback (most recent call last)",
            "\u001b[0;32m<ipython-input-22-0baa66ecc6d5>\u001b[0m in \u001b[0;36m<module>\u001b[0;34m()\u001b[0m\n\u001b[0;32m----> 1\u001b[0;31m \u001b[0;34m'ba'\u001b[0m \u001b[0;34m+\u001b[0m \u001b[0;36m7\u001b[0m \u001b[0;34m+\u001b[0m \u001b[0;34m(\u001b[0m\u001b[0;36m1\u001b[0m\u001b[0;34m/\u001b[0m\u001b[0;36m0\u001b[0m\u001b[0;34m)\u001b[0m\u001b[0;34m\u001b[0m\u001b[0;34m\u001b[0m\u001b[0m\n\u001b[0m",
            "\u001b[0;31mTypeError\u001b[0m: can only concatenate str (not \"int\") to str"
          ]
        }
      ]
    },
    {
      "cell_type": "markdown",
      "source": [
        "# TH3"
      ],
      "metadata": {
        "id": "qLvqBiP-ILGC"
      }
    },
    {
      "cell_type": "code",
      "source": [
        "  x = int(input(\"Vui long nhap so: \"))"
      ],
      "metadata": {
        "colab": {
          "base_uri": "https://localhost:8080/",
          "height": 182
        },
        "id": "lCP4p_sOIqC9",
        "outputId": "102e5670-f1f1-4b00-f57e-042cb4baa353"
      },
      "execution_count": 13,
      "outputs": [
        {
          "name": "stdout",
          "output_type": "stream",
          "text": [
            "Vui long nhap so: a\n"
          ]
        },
        {
          "output_type": "error",
          "ename": "ValueError",
          "evalue": "ignored",
          "traceback": [
            "\u001b[0;31m---------------------------------------------------------------------------\u001b[0m",
            "\u001b[0;31mValueError\u001b[0m                                Traceback (most recent call last)",
            "\u001b[0;32m<ipython-input-13-ef90143849cd>\u001b[0m in \u001b[0;36m<module>\u001b[0;34m()\u001b[0m\n\u001b[0;32m----> 1\u001b[0;31m \u001b[0mx\u001b[0m \u001b[0;34m=\u001b[0m \u001b[0mint\u001b[0m\u001b[0;34m(\u001b[0m\u001b[0minput\u001b[0m\u001b[0;34m(\u001b[0m\u001b[0;34m\"Vui long nhap so: \"\u001b[0m\u001b[0;34m)\u001b[0m\u001b[0;34m)\u001b[0m\u001b[0;34m\u001b[0m\u001b[0;34m\u001b[0m\u001b[0m\n\u001b[0m",
            "\u001b[0;31mValueError\u001b[0m: invalid literal for int() with base 10: 'a'"
          ]
        }
      ]
    },
    {
      "cell_type": "code",
      "source": [
        "try:\n",
        "  x = int(input(\"Vui long nhap so: \"))\n",
        "except ValueError:\n",
        "  print('Loi')"
      ],
      "metadata": {
        "colab": {
          "base_uri": "https://localhost:8080/"
        },
        "id": "dLF0iIoEIOj8",
        "outputId": "2e69b0bb-5cc9-4105-d2e8-4669a61f30d8"
      },
      "execution_count": 31,
      "outputs": [
        {
          "output_type": "stream",
          "name": "stdout",
          "text": [
            "Vui long nhap so: hello\n",
            "Loi\n"
          ]
        }
      ]
    },
    {
      "cell_type": "markdown",
      "source": [
        "# TH4"
      ],
      "metadata": {
        "id": "9eFw0b9RK45y"
      }
    },
    {
      "cell_type": "code",
      "source": [
        "while True:\n",
        "  try:\n",
        "    x = int(input(\"Vui long nhap so: \"))\n",
        "  except ValueError:\n",
        "    print('So vua nhap sai')\n",
        "  else:\n",
        "    print('So vua nhap la ' + str(x))\n",
        "    break\n",
        "  finally:\n",
        "    print('Da hoan thanh chuong trinh')"
      ],
      "metadata": {
        "colab": {
          "base_uri": "https://localhost:8080/"
        },
        "id": "sIx8zxIIK8Vr",
        "outputId": "284569b1-84a8-444a-a4cd-f7a807152a1b"
      },
      "execution_count": 29,
      "outputs": [
        {
          "output_type": "stream",
          "name": "stdout",
          "text": [
            "Vui long nhap so: a\n",
            "So vua nhap sai\n",
            "Da hoan thanh chuong trinh\n",
            "Vui long nhap so: 1\n",
            "So vua nhap la 1\n",
            "Da hoan thanh chuong trinh\n"
          ]
        }
      ]
    },
    {
      "cell_type": "markdown",
      "source": [
        "# TH5"
      ],
      "metadata": {
        "id": "wYX_eeaHLpUs"
      }
    },
    {
      "cell_type": "code",
      "source": [
        "def frange(batdau, ketthuc, buocnhay):\n",
        "  day_ketqua = []\n",
        "  while batdau < ketthuc:\n",
        "    day_ketqua.append(batdau)\n",
        "    batdau = batdau + buocnhay\n",
        "  return day_ketqua"
      ],
      "metadata": {
        "id": "HqWyU0mGLrwX"
      },
      "execution_count": 37,
      "outputs": []
    },
    {
      "cell_type": "code",
      "source": [
        "tu0den2 = frange(0, 2, 0.2)\n",
        "tu0den2"
      ],
      "metadata": {
        "colab": {
          "base_uri": "https://localhost:8080/"
        },
        "id": "JozvrIHpOv77",
        "outputId": "39ba885c-80b0-4738-c6cb-515b27c2f543"
      },
      "execution_count": 39,
      "outputs": [
        {
          "output_type": "execute_result",
          "data": {
            "text/plain": [
              "[0,\n",
              " 0.2,\n",
              " 0.4,\n",
              " 0.6000000000000001,\n",
              " 0.8,\n",
              " 1.0,\n",
              " 1.2,\n",
              " 1.4,\n",
              " 1.5999999999999999,\n",
              " 1.7999999999999998,\n",
              " 1.9999999999999998]"
            ]
          },
          "metadata": {},
          "execution_count": 39
        }
      ]
    },
    {
      "cell_type": "markdown",
      "source": [
        "# TH6"
      ],
      "metadata": {
        "id": "7eHTaA1jPT6-"
      }
    },
    {
      "cell_type": "markdown",
      "source": [
        "Phân đoạn 1:"
      ],
      "metadata": {
        "id": "EYUGpVYWPaue"
      }
    },
    {
      "cell_type": "code",
      "source": [
        "from matplotlib import pyplot as plt\n",
        "import math"
      ],
      "metadata": {
        "id": "wFHYitcRPWkm"
      },
      "execution_count": 73,
      "outputs": []
    },
    {
      "cell_type": "markdown",
      "source": [
        "Phân đoạn 2:"
      ],
      "metadata": {
        "id": "CppL6l8UQIIy"
      }
    },
    {
      "cell_type": "code",
      "source": [
        "from itertools import starmap\n",
        "def draw_graph(x,y):\n",
        "  plt.plot(x,y)\n",
        "  plt.xlabel('Truc X')\n",
        "  plt.ylabel('Truc Y')\n",
        "  plt.title('Do thi bai toan nem bong')"
      ],
      "metadata": {
        "id": "LkaktYw4QMIn"
      },
      "execution_count": 74,
      "outputs": []
    },
    {
      "cell_type": "code",
      "source": [
        "def frange(start, final, intervals):\n",
        "  number = []\n",
        "  while start < final:\n",
        "    number.append(start)\n",
        "    start = start + intervals\n",
        "  return number"
      ],
      "metadata": {
        "id": "3mOZsPbBSnX9"
      },
      "execution_count": 75,
      "outputs": []
    },
    {
      "cell_type": "code",
      "source": [
        "def draw_trajectory(u,theta):\n",
        "  import math\n",
        "  g = 9.8\n",
        "  theta = math.radians(theta)\n",
        "  t_flight = 2*u*math.sin(theta)/g\n",
        "  intervals = frange(0, t_flight, 0.001)\n",
        "  x = []\n",
        "  y = []\n",
        "  for t in intervals:\n",
        "    x.append(u*math.cos(theta)*t)\n",
        "    y.append(u*math.sin(theta)*t - 0.5*g*t*t)\n",
        "  draw_graph(x,y)"
      ],
      "metadata": {
        "id": "QnRHed_-a_l4"
      },
      "execution_count": 83,
      "outputs": []
    },
    {
      "cell_type": "markdown",
      "source": [
        "Phân đoạn 3:"
      ],
      "metadata": {
        "id": "1dke_lUNV3I-"
      }
    },
    {
      "cell_type": "code",
      "source": [
        "if __name__=='__main__':\n",
        "  try:\n",
        "    u = float(input('Nhap van toc ban dau (m/s):'))\n",
        "    theta = float(input('Nhap goc bay (degrees):'))\n",
        "  except ValueError:\n",
        "    print('Nhap cac gia tri sai!')\n",
        "  else:\n",
        "    draw_trajectory(u,theta)\n",
        "    plt.show()\n",
        "  finally:\n",
        "    print('Hoan thanh chuong trinh')"
      ],
      "metadata": {
        "colab": {
          "base_uri": "https://localhost:8080/",
          "height": 347
        },
        "id": "Bwd7OSSRV-6N",
        "outputId": "593cf283-36e7-49c1-d6de-f6e6b31cab5f"
      },
      "execution_count": 84,
      "outputs": [
        {
          "name": "stdout",
          "output_type": "stream",
          "text": [
            "Nhap van toc ban dau (m/s):30\n",
            "Nhap goc bay (degrees):60\n"
          ]
        },
        {
          "output_type": "display_data",
          "data": {
            "image/png": "[encoded data removed]",
            "text/plain": [
              "<Figure size 432x288 with 1 Axes>"
            ]
          },
          "metadata": {
            "needs_background": "light"
          }
        },
        {
          "output_type": "stream",
          "name": "stdout",
          "text": [
            "Hoan thanh chuong trinh!\n"
          ]
        }
      ]
    },
    {
      "cell_type": "markdown",
      "source": [
        "# TH7"
      ],
      "metadata": {
        "id": "PwItF3kzbkn-"
      }
    },
    {
      "cell_type": "code",
      "source": [
        "if __name__=='__main__':\n",
        "  ds_vantoc = [20,40,60]\n",
        "  goc_bandau = 45\n",
        "  for v in ds_vantoc:\n",
        "    draw_trajectory(v, goc_bandau)\n",
        "  chudan = []\n",
        "  for i in ds_vantoc:\n",
        "    chudan.append(str(i))\n",
        "  print('Chu dan duoc tao la:')\n",
        "  print(chudan)\n",
        "  plt.legend(chudan)\n",
        "  plt.show()"
      ],
      "metadata": {
        "colab": {
          "base_uri": "https://localhost:8080/",
          "height": 330
        },
        "id": "XExmlfmcbncD",
        "outputId": "ef754fd3-06b4-4037-a82c-8f0feaffd228"
      },
      "execution_count": 86,
      "outputs": [
        {
          "output_type": "stream",
          "name": "stdout",
          "text": [
            "Chu dan duoc tao la:\n",
            "['20', '40', '60']\n"
          ]
        },
        {
          "output_type": "display_data",
          "data": {
            "image/png": "[encoded data removed]",
            "text/plain": [
              "<Figure size 432x288 with 1 Axes>"
            ]
          },
          "metadata": {
            "needs_background": "light"
          }
        }
      ]
    }
  ]
}