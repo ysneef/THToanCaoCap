{
  "nbformat": 4,
  "nbformat_minor": 0,
  "metadata": {
    "colab": {
      "name": "23_2174802010854_VoHuynhNhuY.ipynb",
      "provenance": [],
      "authorship_tag": "ABX9TyPl+1vWzmVhC/NEUPAcCvap",
      "include_colab_link": true
    },
    "kernelspec": {
      "name": "python3",
      "display_name": "Python 3"
    },
    "language_info": {
      "name": "python"
    }
  },
  "cells": [
    {
      "cell_type": "markdown",
      "metadata": {
        "id": "view-in-github",
        "colab_type": "text"
      },
      "source": [
        "<a href=\"https://colab.research.google.com/github/ysneef/THToanCaoCap/blob/main/23_2174802010854_VoHuynhNhuY.ipynb\" target=\"_parent\"><img src=\"https://colab.research.google.com/assets/colab-badge.svg\" alt=\"Open In Colab\"/></a>"
      ]
    },
    {
      "cell_type": "markdown",
      "source": [
        "# 1. Tích phân"
      ],
      "metadata": {
        "id": "sHJvY8e_ZCJx"
      }
    },
    {
      "cell_type": "markdown",
      "source": [
        "1:"
      ],
      "metadata": {
        "id": "UsGle9JeasAp"
      }
    },
    {
      "cell_type": "code",
      "execution_count": 13,
      "metadata": {
        "colab": {
          "base_uri": "https://localhost:8080/",
          "height": 38
        },
        "id": "hlv2h8mYY3Uk",
        "outputId": "2fb36954-b45b-4b6b-b104-f19ead953750"
      },
      "outputs": [
        {
          "output_type": "execute_result",
          "data": {
            "text/plain": [
              "2 - 3*log(2)"
            ],
            "text/latex": "$\\displaystyle 2 - 3 \\log{\\left(2 \\right)}$"
          },
          "metadata": {},
          "execution_count": 13
        }
      ],
      "source": [
        "from sympy import Integral, Symbol\n",
        "x = Symbol('x')\n",
        "f = (2*x-1)/(x+1)\n",
        "unbound1 = Integral(f, (x, 0, 1))\n",
        "unbound1.doit()"
      ]
    },
    {
      "cell_type": "markdown",
      "source": [
        "5:"
      ],
      "metadata": {
        "id": "5q1MxeO-czlJ"
      }
    },
    {
      "cell_type": "code",
      "source": [
        "from sympy import Integral, Symbol\n",
        "x = Symbol('x')\n",
        "f = (2*x+1)/(x*(x+1))\n",
        "unbound2 = Integral(f, (x, 1, 22))\n",
        "unbound2.doit()"
      ],
      "metadata": {
        "colab": {
          "base_uri": "https://localhost:8080/",
          "height": 38
        },
        "id": "t84Ra5nIc28i",
        "outputId": "d61e296f-e83e-41c1-83f6-13797b59e201"
      },
      "execution_count": 14,
      "outputs": [
        {
          "output_type": "execute_result",
          "data": {
            "text/plain": [
              "-log(2) + log(506)"
            ],
            "text/latex": "$\\displaystyle - \\log{\\left(2 \\right)} + \\log{\\left(506 \\right)}$"
          },
          "metadata": {},
          "execution_count": 14
        }
      ]
    },
    {
      "cell_type": "markdown",
      "source": [
        "# 2. Tính đạo hàm"
      ],
      "metadata": {
        "id": "1WGxrsEhdPPx"
      }
    },
    {
      "cell_type": "markdown",
      "source": [
        "2:"
      ],
      "metadata": {
        "id": "DNNtsNJSfb4O"
      }
    },
    {
      "cell_type": "code",
      "source": [
        "from sympy import Derivative, Symbol \n",
        "x = Symbol('x') \n",
        "f = (2*x-1)/(x+2) \n",
        "Derivative(f, x).doit()"
      ],
      "metadata": {
        "colab": {
          "base_uri": "https://localhost:8080/",
          "height": 58
        },
        "id": "RnJ6fWj7e1Oy",
        "outputId": "8a38dae3-8edf-4afe-8339-366dc6e32448"
      },
      "execution_count": 22,
      "outputs": [
        {
          "output_type": "execute_result",
          "data": {
            "text/plain": [
              "2/(x + 2) - (2*x - 1)/(x + 2)**2"
            ],
            "text/latex": "$\\displaystyle \\frac{2}{x + 2} - \\frac{2 x - 1}{\\left(x + 2\\right)^{2}}$"
          },
          "metadata": {},
          "execution_count": 22
        }
      ]
    },
    {
      "cell_type": "markdown",
      "source": [
        "3:"
      ],
      "metadata": {
        "id": "LnZL5kEPfiAu"
      }
    },
    {
      "cell_type": "code",
      "source": [
        "from sympy import Derivative, Symbol \n",
        "x = Symbol('x') \n",
        "f = (x**2+3*x-1)/(x+1) \n",
        "Derivative(f, x).doit()"
      ],
      "metadata": {
        "colab": {
          "base_uri": "https://localhost:8080/",
          "height": 61
        },
        "id": "-mTnB0IJfkBo",
        "outputId": "799d14a7-7bc4-45be-cd59-5bb530a7c328"
      },
      "execution_count": 23,
      "outputs": [
        {
          "output_type": "execute_result",
          "data": {
            "text/plain": [
              "(2*x + 3)/(x + 1) - (x**2 + 3*x - 1)/(x + 1)**2"
            ],
            "text/latex": "$\\displaystyle \\frac{2 x + 3}{x + 1} - \\frac{x^{2} + 3 x - 1}{\\left(x + 1\\right)^{2}}$"
          },
          "metadata": {},
          "execution_count": 23
        }
      ]
    },
    {
      "cell_type": "markdown",
      "source": [
        "# 3. Tính giới hạn"
      ],
      "metadata": {
        "id": "P0LR63yRghCQ"
      }
    },
    {
      "cell_type": "markdown",
      "source": [
        "1:"
      ],
      "metadata": {
        "id": "xVfXJLz5glgw"
      }
    },
    {
      "cell_type": "code",
      "source": [
        "import sympy\n",
        "from sympy import *\n",
        "x = Symbol('x') \n",
        "f = (sqrt(x**2-x+1)/(x+1)) \n",
        "c = Symbol('c') \n",
        "delta = Symbol('delta') \n",
        "c = 2\n",
        "delta = 1/4 \n",
        "sympy.plot(f,(x, c - delta, c + delta))\n",
        "sympy.plot(f, abs(x), -abs(x),(x, c - delta, c + delta))"
      ],
      "metadata": {
        "colab": {
          "base_uri": "https://localhost:8080/",
          "height": 594
        },
        "id": "8PH0I2KNgoQm",
        "outputId": "d690ea14-1877-4d01-a4f2-2268aaf612ff"
      },
      "execution_count": 26,
      "outputs": [
        {
          "output_type": "display_data",
          "data": {
            "text/plain": [
              "<Figure size 432x288 with 1 Axes>"
            ],
            "image/png": "[encoded data removed]"
          },
          "metadata": {
            "needs_background": "light"
          }
        },
        {
          "output_type": "display_data",
          "data": {
            "text/plain": [
              "<Figure size 432x288 with 1 Axes>"
            ],
            "image/png": "[encoded data removed]"
          },
          "metadata": {
            "needs_background": "light"
          }
        },
        {
          "output_type": "execute_result",
          "data": {
            "text/plain": [
              "<sympy.plotting.plot.Plot at 0x7f71061dd910>"
            ]
          },
          "metadata": {},
          "execution_count": 26
        }
      ]
    },
    {
      "cell_type": "markdown",
      "source": [
        "2:"
      ],
      "metadata": {
        "id": "faTvO5bziGFw"
      }
    },
    {
      "cell_type": "code",
      "source": [
        "import sympy\n",
        "from sympy import *\n",
        "x = Symbol('x') \n",
        "f = (sqrt(x**2-2*x+3)/(x+1)) \n",
        "c = Symbol('c') \n",
        "delta = Symbol('delta') \n",
        "c = 11\n",
        "delta = 1/4 \n",
        "sympy.plot(f,(x, c - delta, c + delta))\n",
        "sympy.plot(f, abs(x), -abs(x),(x, c - delta, c + delta))"
      ],
      "metadata": {
        "colab": {
          "base_uri": "https://localhost:8080/",
          "height": 594
        },
        "id": "wXuUZt7CiEmX",
        "outputId": "b73573fd-5085-44e2-fa19-a1bb9601acc8"
      },
      "execution_count": 27,
      "outputs": [
        {
          "output_type": "display_data",
          "data": {
            "text/plain": [
              "<Figure size 432x288 with 1 Axes>"
            ],
            "image/png": "[encoded data removed]"
          },
          "metadata": {
            "needs_background": "light"
          }
        },
        {
          "output_type": "display_data",
          "data": {
            "text/plain": [
              "<Figure size 432x288 with 1 Axes>"
            ],
            "image/png": "[encoded data removed]"
          },
          "metadata": {
            "needs_background": "light"
          }
        },
        {
          "output_type": "execute_result",
          "data": {
            "text/plain": [
              "<sympy.plotting.plot.Plot at 0x7f7105d0c090>"
            ]
          },
          "metadata": {},
          "execution_count": 27
        }
      ]
    }
  ]
}