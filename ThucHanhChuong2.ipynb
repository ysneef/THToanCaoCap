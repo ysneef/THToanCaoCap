{
  "nbformat": 4,
  "nbformat_minor": 0,
  "metadata": {
    "colab": {
      "name": "ThucHanhChuong2.ipynb",
      "provenance": [],
      "authorship_tag": "ABX9TyOBOnSQBy55VAPx/ee4of8x",
      "include_colab_link": true
    },
    "kernelspec": {
      "name": "python3",
      "display_name": "Python 3"
    },
    "language_info": {
      "name": "python"
    }
  },
  "cells": [
    {
      "cell_type": "markdown",
      "metadata": {
        "id": "view-in-github",
        "colab_type": "text"
      },
      "source": [
        "<a href=\"https://colab.research.google.com/github/ysneef/THToanCaoCap/blob/main/ThucHanhChuong2.ipynb\" target=\"_parent\"><img src=\"https://colab.research.google.com/assets/colab-badge.svg\" alt=\"Open In Colab\"/></a>"
      ]
    },
    {
      "cell_type": "markdown",
      "source": [
        "# Bai 1:"
      ],
      "metadata": {
        "id": "5DUPKemDbUke"
      }
    },
    {
      "cell_type": "code",
      "execution_count": 1,
      "metadata": {
        "colab": {
          "base_uri": "https://localhost:8080/"
        },
        "id": "lqvxFUdbbPuV",
        "outputId": "a68c8a7c-c689-4078-bfb0-1996e7222b7d"
      },
      "outputs": [
        {
          "output_type": "execute_result",
          "data": {
            "text/plain": [
              "30"
            ]
          },
          "metadata": {},
          "execution_count": 1
        }
      ],
      "source": [
        "chuoi = \" a*b + 2*c\"\n",
        "a = 2\n",
        "b = 5\n",
        "c= 10\n",
        "eval(chuoi)"
      ]
    },
    {
      "cell_type": "markdown",
      "source": [
        "# Bai 2:"
      ],
      "metadata": {
        "id": "N_BWpNaubc6-"
      }
    },
    {
      "cell_type": "markdown",
      "source": [
        "a)"
      ],
      "metadata": {
        "id": "5gudu36JbiMt"
      }
    },
    {
      "cell_type": "code",
      "source": [
        "from sympy import Symbol\n",
        "x = Symbol ('x ')\n",
        "y = Symbol ('y')\n",
        "bieuthuc = x +y \n",
        "theso = bieuthuc.subs({x: 5, y: 10 })"
      ],
      "metadata": {
        "id": "xeSAqX9ObkLN"
      },
      "execution_count": 2,
      "outputs": []
    },
    {
      "cell_type": "code",
      "source": [
        "theso "
      ],
      "metadata": {
        "colab": {
          "base_uri": "https://localhost:8080/",
          "height": 38
        },
        "id": "kXkGGqQ4bmqd",
        "outputId": "364828be-2872-4329-b5ff-de1dd9817a01"
      },
      "execution_count": 3,
      "outputs": [
        {
          "output_type": "execute_result",
          "data": {
            "text/latex": "$\\displaystyle 15$",
            "text/plain": [
              "15"
            ]
          },
          "metadata": {},
          "execution_count": 3
        }
      ]
    },
    {
      "cell_type": "markdown",
      "source": [
        "b)"
      ],
      "metadata": {
        "id": "9i5iUPQYb3cc"
      }
    },
    {
      "cell_type": "code",
      "source": [
        "u = Symbol ('u')\n",
        "v = Symbol (' v')\n",
        "bieuthuc_uv = bieuthuc.subs({x:u,y:v})"
      ],
      "metadata": {
        "id": "3LgyanZvbrGk"
      },
      "execution_count": 4,
      "outputs": []
    },
    {
      "cell_type": "code",
      "source": [
        "bieuthuc_uv "
      ],
      "metadata": {
        "colab": {
          "base_uri": "https://localhost:8080/",
          "height": 39
        },
        "id": "X5A4fqH8bpwt",
        "outputId": "4065217e-a1aa-4e70-c832-943139cad823"
      },
      "execution_count": 5,
      "outputs": [
        {
          "output_type": "execute_result",
          "data": {
            "text/latex": "$\\displaystyle  v + u$",
            "text/plain": [
              " v + u"
            ]
          },
          "metadata": {},
          "execution_count": 5
        }
      ]
    },
    {
      "cell_type": "markdown",
      "source": [
        "c)"
      ],
      "metadata": {
        "id": "WJrHt6K0b6QT"
      }
    },
    {
      "cell_type": "code",
      "source": [
        "tinhtoan=bieuthuc.subs({x: 2*u*v, y: u*v**2})\n",
        "tinhtoan "
      ],
      "metadata": {
        "colab": {
          "base_uri": "https://localhost:8080/",
          "height": 39
        },
        "id": "5M5zbgXEb8Zt",
        "outputId": "b463e0ca-3f1f-409b-eb30-aa615cf5df9f"
      },
      "execution_count": 6,
      "outputs": [
        {
          "output_type": "execute_result",
          "data": {
            "text/latex": "$\\displaystyle  v^{2} u + 2  v u$",
            "text/plain": [
              " v**2*u + 2* v*u"
            ]
          },
          "metadata": {},
          "execution_count": 6
        }
      ]
    },
    {
      "cell_type": "code",
      "source": [
        "tinhtoan.factor()"
      ],
      "metadata": {
        "colab": {
          "base_uri": "https://localhost:8080/",
          "height": 39
        },
        "id": "1Tla-MwCb-tM",
        "outputId": "5f094c54-d34f-4e37-88d8-fdbaa7893591"
      },
      "execution_count": 7,
      "outputs": [
        {
          "output_type": "execute_result",
          "data": {
            "text/latex": "$\\displaystyle  v u \\left( v + 2\\right)$",
            "text/plain": [
              " v*u*( v + 2)"
            ]
          },
          "metadata": {},
          "execution_count": 7
        }
      ]
    },
    {
      "cell_type": "markdown",
      "source": [
        "d)"
      ],
      "metadata": {
        "id": "tZ30P3MXcBnt"
      }
    },
    {
      "cell_type": "code",
      "source": [
        "from sympy import Symbol \n",
        "x = Symbol ('x')\n",
        "y = Symbol ('y')\n",
        "bieuthuc= x + y\n",
        "bieuthuc1= x**2 + y**2 \n",
        "u = Symbol ('u')\n",
        "v = Symbol('v')\n",
        "a = Symbol ('a')\n",
        "from sympy import sin, cos\n",
        "bieuthuc_uv = bieuthuc1.subs({x: a*sin(u), y: a*cos(u)})\n",
        "bieuthuc_uv "
      ],
      "metadata": {
        "colab": {
          "base_uri": "https://localhost:8080/",
          "height": 39
        },
        "id": "PZHbYftDcCht",
        "outputId": "1d355067-ad4a-4bd3-80aa-0feecbc18628"
      },
      "execution_count": 8,
      "outputs": [
        {
          "output_type": "execute_result",
          "data": {
            "text/latex": "$\\displaystyle a^{2} \\sin^{2}{\\left(u \\right)} + a^{2} \\cos^{2}{\\left(u \\right)}$",
            "text/plain": [
              "a**2*sin(u)**2 + a**2*cos(u)**2"
            ]
          },
          "metadata": {},
          "execution_count": 8
        }
      ]
    },
    {
      "cell_type": "code",
      "source": [
        "bieuthuc_uv.simplify()"
      ],
      "metadata": {
        "colab": {
          "base_uri": "https://localhost:8080/",
          "height": 39
        },
        "id": "i3tEPsJjcETT",
        "outputId": "80ca93f6-a938-4cb7-db7f-0173c2f77078"
      },
      "execution_count": 9,
      "outputs": [
        {
          "output_type": "execute_result",
          "data": {
            "text/latex": "$\\displaystyle a^{2}$",
            "text/plain": [
              "a**2"
            ]
          },
          "metadata": {},
          "execution_count": 9
        }
      ]
    },
    {
      "cell_type": "markdown",
      "source": [
        "\n",
        "Vẽ biểu đồ với Matplotlib\n"
      ],
      "metadata": {
        "id": "ZfxMp0qccKS0"
      }
    },
    {
      "cell_type": "markdown",
      "source": [
        "# Bai 3:"
      ],
      "metadata": {
        "id": "okmh0aXScQmt"
      }
    },
    {
      "cell_type": "code",
      "source": [
        "danhsach  = [ 1,2,3,4,5]\n",
        "danhsach[ 1 ]"
      ],
      "metadata": {
        "colab": {
          "base_uri": "https://localhost:8080/"
        },
        "id": "dcPn7O4kcWdk",
        "outputId": "fd5310c4-ffdb-4d0a-a332-1c2a75ae1d5e"
      },
      "execution_count": 19,
      "outputs": [
        {
          "output_type": "execute_result",
          "data": {
            "text/plain": [
              "2"
            ]
          },
          "metadata": {},
          "execution_count": 19
        }
      ]
    },
    {
      "cell_type": "code",
      "source": [
        "danhsach.append(10 )\n",
        "danhsach "
      ],
      "metadata": {
        "colab": {
          "base_uri": "https://localhost:8080/"
        },
        "id": "FRA4fJj5cXyt",
        "outputId": "b11201a6-34a4-45fa-ea74-11a6312c0186"
      },
      "execution_count": 18,
      "outputs": [
        {
          "output_type": "execute_result",
          "data": {
            "text/plain": [
              "[15, 10, 15, 11, 2020, 10]"
            ]
          },
          "metadata": {},
          "execution_count": 18
        }
      ]
    },
    {
      "cell_type": "code",
      "source": [
        "danhsach.insert(0,15 )\n",
        "danhsach "
      ],
      "metadata": {
        "colab": {
          "base_uri": "https://localhost:8080/"
        },
        "id": "M0wZzucYcY71",
        "outputId": "dd9670e4-f77b-42da-b1a1-cbdb4c3f24b5"
      },
      "execution_count": 17,
      "outputs": [
        {
          "output_type": "execute_result",
          "data": {
            "text/plain": [
              "[15, 10, 15, 11, 2020]"
            ]
          },
          "metadata": {},
          "execution_count": 17
        }
      ]
    },
    {
      "cell_type": "code",
      "source": [
        "danhsach.pop(0 )\n",
        "danhsach "
      ],
      "metadata": {
        "colab": {
          "base_uri": "https://localhost:8080/"
        },
        "id": "PkFPnHimcZ11",
        "outputId": "b6d05407-a161-4cea-dd8c-363c176e832e"
      },
      "execution_count": 16,
      "outputs": [
        {
          "output_type": "execute_result",
          "data": {
            "text/plain": [
              "[10, 15, 11, 2020]"
            ]
          },
          "metadata": {},
          "execution_count": 16
        }
      ]
    },
    {
      "cell_type": "markdown",
      "source": [
        "# Bai 4:"
      ],
      "metadata": {
        "id": "5-8L8pmWca21"
      }
    },
    {
      "cell_type": "code",
      "source": [
        "danhsach=[5,10,15,11,2020]\n",
        "for ch in danhsach:\n",
        "  print(ch )"
      ],
      "metadata": {
        "colab": {
          "base_uri": "https://localhost:8080/"
        },
        "id": "IWluL96Qcc8e",
        "outputId": "040b1004-854a-41a4-94d8-1ad99fb051ec"
      },
      "execution_count": 15,
      "outputs": [
        {
          "output_type": "stream",
          "name": "stdout",
          "text": [
            "5\n",
            "10\n",
            "15\n",
            "11\n",
            "2020\n"
          ]
        }
      ]
    },
    {
      "cell_type": "code",
      "source": [
        "for chiso, giatri in enumerate (danhsach):\n",
        "  print(chiso,':', giatri )"
      ],
      "metadata": {
        "colab": {
          "base_uri": "https://localhost:8080/",
          "height": 182
        },
        "id": "G-2XTFXlcfNF",
        "outputId": "38809a3a-1d92-4ae3-fab7-07202518f2d8"
      },
      "execution_count": 14,
      "outputs": [
        {
          "output_type": "error",
          "ename": "NameError",
          "evalue": "ignored",
          "traceback": [
            "\u001b[0;31m---------------------------------------------------------------------------\u001b[0m",
            "\u001b[0;31mNameError\u001b[0m                                 Traceback (most recent call last)",
            "\u001b[0;32m<ipython-input-14-8b9879b3c7ff>\u001b[0m in \u001b[0;36m<module>\u001b[0;34m()\u001b[0m\n\u001b[0;32m----> 1\u001b[0;31m \u001b[0;32mfor\u001b[0m \u001b[0mchiso\u001b[0m\u001b[0;34m,\u001b[0m \u001b[0mgiatri\u001b[0m \u001b[0;32min\u001b[0m \u001b[0menumerate\u001b[0m \u001b[0;34m(\u001b[0m\u001b[0mdanhsach\u001b[0m\u001b[0;34m)\u001b[0m\u001b[0;34m:\u001b[0m\u001b[0;34m\u001b[0m\u001b[0;34m\u001b[0m\u001b[0m\n\u001b[0m\u001b[1;32m      2\u001b[0m   \u001b[0mprint\u001b[0m\u001b[0;34m(\u001b[0m\u001b[0mchiso\u001b[0m\u001b[0;34m,\u001b[0m\u001b[0;34m':'\u001b[0m\u001b[0;34m,\u001b[0m \u001b[0mgiatri\u001b[0m \u001b[0;34m)\u001b[0m\u001b[0;34m\u001b[0m\u001b[0;34m\u001b[0m\u001b[0m\n",
            "\u001b[0;31mNameError\u001b[0m: name 'danhsach' is not defined"
          ]
        }
      ]
    },
    {
      "cell_type": "markdown",
      "source": [
        "# Bai 5:"
      ],
      "metadata": {
        "id": "S0r1snSEcg8N"
      }
    },
    {
      "cell_type": "code",
      "source": [
        "giatri_x = [ 2,4,6,8 ]\n",
        "giatri_y = [1, 5, 7, 9]\n",
        "from pylab import plot, show\n",
        "plot(giatri_x , giatri_y )\n",
        "show( )"
      ],
      "metadata": {
        "colab": {
          "base_uri": "https://localhost:8080/",
          "height": 265
        },
        "id": "85tvNv5Tcikt",
        "outputId": "b4336f34-897c-43e6-e173-055626aed8dd"
      },
      "execution_count": 13,
      "outputs": [
        {
          "output_type": "display_data",
          "data": {
            "image/png": "[encoded data removed]",
            "text/plain": [
              "<Figure size 432x288 with 1 Axes>"
            ]
          },
          "metadata": {
            "needs_background": "light"
          }
        }
      ]
    },
    {
      "cell_type": "markdown",
      "source": [
        "# Bai 6:"
      ],
      "metadata": {
        "id": "HR476LHzcknF"
      }
    },
    {
      "cell_type": "code",
      "source": [
        "giatri_x = [ 2,4,6,8 ]\n",
        "giatri_y = [1, 5, 7, 9]\n",
        "from pylab import plot, show \n",
        "plot (giatri_x , giatri_y, marker='o')"
      ],
      "metadata": {
        "colab": {
          "base_uri": "https://localhost:8080/",
          "height": 282
        },
        "id": "8AzKWQZ9cmAk",
        "outputId": "08639f50-f30e-4035-8c18-44eed4d2d6a9"
      },
      "execution_count": 12,
      "outputs": [
        {
          "output_type": "execute_result",
          "data": {
            "text/plain": [
              "[<matplotlib.lines.Line2D at 0x7fbe5a0a8cd0>]"
            ]
          },
          "metadata": {},
          "execution_count": 12
        },
        {
          "output_type": "display_data",
          "data": {
            "image/png": "[encoded data removed]",
            "text/plain": [
              "<Figure size 432x288 with 1 Axes>"
            ]
          },
          "metadata": {
            "needs_background": "light"
          }
        }
      ]
    },
    {
      "cell_type": "markdown",
      "source": [
        "# Bai 7:"
      ],
      "metadata": {
        "id": "TH_uTSVCc5wr"
      }
    },
    {
      "cell_type": "code",
      "source": [
        "luongmua = [13.8,4.1,10.5, 50.4, 218.4, 311.7, 293.7, 269.8, 327.1, 266.7, 116.5, 48.3]\n",
        "thang= range(1,13)\n",
        "from pylab import show, plot\n",
        "plot(thang, luongmua, marker='o') \n",
        "show()"
      ],
      "metadata": {
        "colab": {
          "base_uri": "https://localhost:8080/",
          "height": 265
        },
        "id": "-crWm77Hc7YV",
        "outputId": "0609517f-fb2c-4d50-e27b-0341d4983265"
      },
      "execution_count": 11,
      "outputs": [
        {
          "output_type": "display_data",
          "data": {
            "image/png": "[encoded data removed]",
            "text/plain": [
              "<Figure size 432x288 with 1 Axes>"
            ]
          },
          "metadata": {
            "needs_background": "light"
          }
        }
      ]
    }
  ]
}